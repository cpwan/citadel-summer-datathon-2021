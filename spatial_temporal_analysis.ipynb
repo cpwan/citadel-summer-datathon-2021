{
  "nbformat": 4,
  "nbformat_minor": 0,
  "metadata": {
    "colab": {
      "name": "spatial-temporal analysis.ipynb",
      "provenance": [],
      "collapsed_sections": [],
      "authorship_tag": "ABX9TyOKeXK6CxC8IodS2A8i+gOr",
      "include_colab_link": true
    },
    "kernelspec": {
      "name": "python3",
      "display_name": "Python 3"
    },
    "language_info": {
      "name": "python"
    }
  },
  "cells": [
    {
      "cell_type": "markdown",
      "metadata": {
        "id": "view-in-github",
        "colab_type": "text"
      },
      "source": [
        "<a href=\"https://colab.research.google.com/github/cpwan/citadel-summer-datathon-2021/blob/eda/spatial_temporal_analysis.ipynb\" target=\"_parent\"><img src=\"https://colab.research.google.com/assets/colab-badge.svg\" alt=\"Open In Colab\"/></a>"
      ]
    },
    {
      "cell_type": "markdown",
      "metadata": {
        "id": "brOax5BOTRNL"
      },
      "source": [
        "# Dependency"
      ]
    },
    {
      "cell_type": "code",
      "metadata": {
        "colab": {
          "base_uri": "https://localhost:8080/"
        },
        "id": "o3u8ogSxTQOB",
        "outputId": "276e0270-d32e-4813-d676-bc4ec2f9f11e"
      },
      "source": [
        "!pip install pysal -q\n",
        "!pip install plotly==5.1.0 -q"
      ],
      "execution_count": null,
      "outputs": [
        {
          "output_type": "stream",
          "text": [
            "\u001b[K     |████████████████████████████████| 2.4MB 7.2MB/s \n",
            "\u001b[K     |████████████████████████████████| 112kB 25.6MB/s \n",
            "\u001b[K     |████████████████████████████████| 61kB 3.1MB/s \n",
            "\u001b[K     |████████████████████████████████| 61kB 5.4MB/s \n",
            "\u001b[K     |████████████████████████████████| 163kB 28.2MB/s \n",
            "\u001b[K     |████████████████████████████████| 51kB 2.8MB/s \n",
            "\u001b[K     |████████████████████████████████| 51kB 2.7MB/s \n",
            "\u001b[K     |████████████████████████████████| 215kB 12.9MB/s \n",
            "\u001b[K     |████████████████████████████████| 5.7MB 30.8MB/s \n",
            "\u001b[K     |████████████████████████████████| 71kB 6.2MB/s \n",
            "\u001b[K     |████████████████████████████████| 143kB 43.7MB/s \n",
            "\u001b[K     |████████████████████████████████| 235kB 43.1MB/s \n",
            "\u001b[K     |████████████████████████████████| 245kB 42.8MB/s \n",
            "\u001b[K     |████████████████████████████████| 56.1MB 46kB/s \n",
            "\u001b[K     |████████████████████████████████| 1.0MB 30.4MB/s \n",
            "\u001b[K     |████████████████████████████████| 2.0MB 28.5MB/s \n",
            "\u001b[K     |████████████████████████████████| 1.0MB 20.2MB/s \n",
            "\u001b[K     |████████████████████████████████| 19.3MB 1.5MB/s \n",
            "\u001b[K     |████████████████████████████████| 40.6MB 78kB/s \n",
            "\u001b[K     |████████████████████████████████| 15.4MB 135kB/s \n",
            "\u001b[K     |████████████████████████████████| 6.6MB 29.1MB/s \n",
            "\u001b[K     |████████████████████████████████| 133kB 42.3MB/s \n",
            "\u001b[?25h  Building wheel for pysal (setup.py) ... \u001b[?25l\u001b[?25hdone\n",
            "  Building wheel for inequality (setup.py) ... \u001b[?25l\u001b[?25hdone\n",
            "  Building wheel for pointpats (setup.py) ... \u001b[?25l\u001b[?25hdone\n",
            "  Building wheel for mgwr (setup.py) ... \u001b[?25l\u001b[?25hdone\n",
            "  Building wheel for spglm (setup.py) ... \u001b[?25l\u001b[?25hdone\n",
            "  Building wheel for spint (setup.py) ... \u001b[?25l\u001b[?25hdone\n",
            "  Building wheel for spvcm (setup.py) ... \u001b[?25l\u001b[?25hdone\n",
            "  Building wheel for splot (setup.py) ... \u001b[?25l\u001b[?25hdone\n",
            "\u001b[31mERROR: requests 2.23.0 has requirement urllib3!=1.25.0,!=1.25.1,<1.26,>=1.21.1, but you'll have urllib3 1.26.6 which is incompatible.\u001b[0m\n",
            "\u001b[31mERROR: datascience 0.10.6 has requirement folium==0.2.1, but you'll have folium 0.8.3 which is incompatible.\u001b[0m\n",
            "\u001b[31mERROR: albumentations 0.1.12 has requirement imgaug<0.2.7,>=0.2.5, but you'll have imgaug 0.2.9 which is incompatible.\u001b[0m\n",
            "\u001b[31mERROR: pytest-cov 2.12.1 has requirement coverage>=5.2.1, but you'll have coverage 3.7.1 which is incompatible.\u001b[0m\n",
            "\u001b[31mERROR: pytest-cov 2.12.1 has requirement pytest>=4.6, but you'll have pytest 3.6.4 which is incompatible.\u001b[0m\n",
            "\u001b[K     |████████████████████████████████| 20.6MB 1.4MB/s \n",
            "\u001b[?25h"
          ],
          "name": "stdout"
        }
      ]
    },
    {
      "cell_type": "markdown",
      "metadata": {
        "id": "ARkTxB6HTT3A"
      },
      "source": [
        "# Download data"
      ]
    },
    {
      "cell_type": "code",
      "metadata": {
        "colab": {
          "base_uri": "https://localhost:8080/"
        },
        "id": "SDQPg0ApcZGE",
        "outputId": "99c5835b-2bfa-425c-ef90-cfb328965d9f"
      },
      "source": [
        "!gdown --id 1ecgxSTxCmhCvVTSFgUBRGVjyGf3rLREW -O dataset.zip"
      ],
      "execution_count": null,
      "outputs": [
        {
          "output_type": "stream",
          "text": [
            "Downloading...\n",
            "From: https://drive.google.com/uc?id=1ecgxSTxCmhCvVTSFgUBRGVjyGf3rLREW\n",
            "To: /content/dataset.zip\n",
            "69.1MB [00:01, 37.3MB/s]\n"
          ],
          "name": "stdout"
        }
      ]
    },
    {
      "cell_type": "code",
      "metadata": {
        "colab": {
          "base_uri": "https://localhost:8080/"
        },
        "id": "yZwM-xTMceNQ",
        "outputId": "5ce58da6-049a-4e41-f211-5c13e9ecb605"
      },
      "source": [
        "!unzip dataset.zip"
      ],
      "execution_count": null,
      "outputs": [
        {
          "output_type": "stream",
          "text": [
            "Archive:  dataset.zip\n",
            "  inflating: Datasets/econ_state.csv  \n",
            "  inflating: Datasets/demographics.csv  \n",
            "  inflating: Datasets/venues.csv.gz  \n",
            "  inflating: Datasets/real_estate.csv.gz  \n",
            "  inflating: Datasets/listings.csv   \n",
            "  inflating: Datasets/calendar.csv.gz  \n"
          ],
          "name": "stdout"
        }
      ]
    },
    {
      "cell_type": "code",
      "metadata": {
        "id": "bPWSf9bgcfwm"
      },
      "source": [
        "!gzip -dk Datasets/*.gz"
      ],
      "execution_count": null,
      "outputs": []
    },
    {
      "cell_type": "code",
      "metadata": {
        "id": "uWIV6alxdPg4"
      },
      "source": [
        "linksToGeoJson={\n",
        "    'los-angeles':'http://data.insideairbnb.com/united-states/ca/los-angeles/2021-04-07/visualisations/neighbourhoods.geojson',\n",
        "    \"asheville\":\"http://data.insideairbnb.com/united-states/nc/asheville/2021-04-19/visualisations/neighbourhoods.geojson\",\n",
        "    \"austin\":\"http://data.insideairbnb.com/united-states/tx/austin/2021-04-16/visualisations/neighbourhoods.geojson\",\n",
        "    \"nashville\":\"http://data.insideairbnb.com/united-states/tn/nashville/2021-02-19/visualisations/neighbourhoods.geojson\",\n",
        "    \"new-orleans\":\"http://data.insideairbnb.com/united-states/la/new-orleans/2021-04-10/visualisations/neighbourhoods.geojson\"\n",
        "}"
      ],
      "execution_count": null,
      "outputs": []
    },
    {
      "cell_type": "code",
      "metadata": {
        "colab": {
          "base_uri": "https://localhost:8080/"
        },
        "id": "_ZYdZyjHdbDR",
        "outputId": "7186b3d5-e583-40f5-e7b5-80b944f982e4"
      },
      "source": [
        "!mkdir geoJson\n",
        "import urllib.request \n",
        "for (filename,url) in linksToGeoJson.items():\n",
        "  print('Downloading', filename)\n",
        "  urllib.request.urlretrieve(url, f'geoJson/{filename}.geojson')"
      ],
      "execution_count": null,
      "outputs": [
        {
          "output_type": "stream",
          "text": [
            "Downloading los-angeles\n",
            "Downloading asheville\n",
            "Downloading austin\n",
            "Downloading nashville\n",
            "Downloading new-orleans\n"
          ],
          "name": "stdout"
        }
      ]
    },
    {
      "cell_type": "code",
      "metadata": {
        "colab": {
          "base_uri": "https://localhost:8080/"
        },
        "id": "oEYnVUrJhY4C",
        "outputId": "8b64d7ec-cfed-4622-9de7-ebf0d65eaeb7"
      },
      "source": [
        "# merge multiple geojsons into one\n",
        "!wget https://gist.githubusercontent.com/migurski/3759608/raw/7f49ed228f40d6384463ec10a96f54e0a26ad5a5/merge-geojsons.py\n",
        "!touch geoJson/multiple-regions.geojson\n",
        "!python merge-geojsons.py geoJson/asheville.geojson geoJson/los-angeles.geojson geoJson/new-orleans.geojson geoJson/austin.geojson geoJson/nashville.geojson geoJson/multiple-regions.geojson"
      ],
      "execution_count": null,
      "outputs": [
        {
          "output_type": "stream",
          "text": [
            "--2021-07-15 12:35:25--  https://gist.githubusercontent.com/migurski/3759608/raw/7f49ed228f40d6384463ec10a96f54e0a26ad5a5/merge-geojsons.py\n",
            "Resolving gist.githubusercontent.com (gist.githubusercontent.com)... 185.199.111.133, 185.199.109.133, 185.199.110.133, ...\n",
            "Connecting to gist.githubusercontent.com (gist.githubusercontent.com)|185.199.111.133|:443... connected.\n",
            "HTTP request sent, awaiting response... 200 OK\n",
            "Length: 1754 (1.7K) [text/plain]\n",
            "Saving to: ‘merge-geojsons.py’\n",
            "\n",
            "merge-geojsons.py   100%[===================>]   1.71K  --.-KB/s    in 0s      \n",
            "\n",
            "2021-07-15 12:35:26 (24.2 MB/s) - ‘merge-geojsons.py’ saved [1754/1754]\n",
            "\n"
          ],
          "name": "stdout"
        }
      ]
    },
    {
      "cell_type": "markdown",
      "metadata": {
        "id": "YhfL0zPVTYEH"
      },
      "source": [
        "# Load data"
      ]
    },
    {
      "cell_type": "code",
      "metadata": {
        "colab": {
          "base_uri": "https://localhost:8080/"
        },
        "id": "Dst0KvAWTiTf",
        "outputId": "cad0d527-4597-471d-fb43-866acde313a3"
      },
      "source": [
        "# dsets: name of csv\n",
        "# regions: the geo-region to look at, specified by the filename of the geojsons\n",
        "dsets=['listings','calendar','demographics','econ_state','real_estate','venues']\n",
        "regions=[*linksToGeoJson.keys()]+['multiple-regions']\n",
        "regions"
      ],
      "execution_count": null,
      "outputs": [
        {
          "output_type": "execute_result",
          "data": {
            "text/plain": [
              "['los-angeles',\n",
              " 'asheville',\n",
              " 'austin',\n",
              " 'nashville',\n",
              " 'new-orleans',\n",
              " 'multiple-regions']"
            ]
          },
          "metadata": {
            "tags": []
          },
          "execution_count": 8
        }
      ]
    },
    {
      "cell_type": "code",
      "metadata": {
        "colab": {
          "base_uri": "https://localhost:8080/"
        },
        "id": "x4KVzkzbch_c",
        "outputId": "806985cd-79fc-4901-812c-5f88f0512ff6"
      },
      "source": [
        "import esda\n",
        "import pandas as pd\n",
        "import geopandas as gpd\n",
        "from geopandas import GeoDataFrame\n",
        "import libpysal as lps\n",
        "import numpy as np\n",
        "import matplotlib.pyplot as plt\n",
        "from shapely.geometry import Point\n",
        "\n",
        "from re import sub\n",
        "from decimal import Decimal\n",
        "\n",
        "import json\n",
        "from pathlib import Path\n",
        "\n",
        "import plotly.express as px\n",
        "\n",
        "%matplotlib inline"
      ],
      "execution_count": null,
      "outputs": [
        {
          "output_type": "stream",
          "text": [
            "/usr/local/lib/python3.7/dist-packages/geopandas/_compat.py:110: UserWarning: The Shapely GEOS version (3.8.0-CAPI-1.13.1 ) is incompatible with the GEOS version PyGEOS was compiled with (3.9.1-CAPI-1.14.2). Conversions between both will be slow.\n",
            "  shapely_geos_version, geos_capi_version_string\n",
            "/usr/local/lib/python3.7/dist-packages/requests/__init__.py:91: RequestsDependencyWarning: urllib3 (1.26.6) or chardet (3.0.4) doesn't match a supported version!\n",
            "  RequestsDependencyWarning)\n"
          ],
          "name": "stderr"
        }
      ]
    },
    {
      "cell_type": "code",
      "metadata": {
        "id": "R1wKUof_Uk5d"
      },
      "source": [
        ""
      ],
      "execution_count": null,
      "outputs": []
    },
    {
      "cell_type": "markdown",
      "metadata": {
        "id": "PU2LneDboJXy"
      },
      "source": [
        "# Preprocessing"
      ]
    },
    {
      "cell_type": "code",
      "metadata": {
        "id": "2Hvu80iuoLNg"
      },
      "source": [
        "# helper function to convert dataframe to GeoDataFrame\n",
        "def constructGDF(df):\n",
        "  geometry = [Point(xy) for xy in zip(df.longitude, df.latitude)]\n",
        "  crs = {'init': 'epsg:4326'} \n",
        "  bl_gdf = GeoDataFrame(df, crs=crs, geometry=geometry)\n",
        "  return bl_gdf"
      ],
      "execution_count": null,
      "outputs": []
    },
    {
      "cell_type": "code",
      "metadata": {
        "colab": {
          "base_uri": "https://localhost:8080/",
          "height": 137
        },
        "id": "4ASrI8UHoWz1",
        "outputId": "8b1c877d-815d-41da-a2e8-c3849790a154"
      },
      "source": [
        "dset='listings'\n",
        "df_geo=pd.read_csv(f'./Datasets/{dset}.csv')\n",
        "region='multiple-regions'\n",
        "gdf = gpd.read_file(f'geoJson/{region}.geojson')\n",
        "gdf.plot()"
      ],
      "execution_count": null,
      "outputs": [
        {
          "output_type": "execute_result",
          "data": {
            "text/plain": [
              "<matplotlib.axes._subplots.AxesSubplot at 0x7f5d44d47b50>"
            ]
          },
          "metadata": {
            "tags": []
          },
          "execution_count": 11
        },
        {
          "output_type": "display_data",
          "data": {
            "image/png": "[encoded data removed]",
            "text/plain": [
              "<Figure size 432x288 with 1 Axes>"
            ]
          },
          "metadata": {
            "tags": [],
            "needs_background": "light"
          }
        }
      ]
    },
    {
      "cell_type": "code",
      "metadata": {
        "colab": {
          "base_uri": "https://localhost:8080/"
        },
        "id": "t02wbEIpoXZa",
        "outputId": "a0fb6a96-7f33-47b6-e1a2-2868351cb712"
      },
      "source": [
        "region_gdf=constructGDF(df_geo)\n",
        "sj_gdf = gpd.sjoin(gdf, region_gdf, how='inner', op='intersects', lsuffix='left', rsuffix='right')"
      ],
      "execution_count": null,
      "outputs": [
        {
          "output_type": "stream",
          "text": [
            "/usr/local/lib/python3.7/dist-packages/pyproj/crs/crs.py:68: FutureWarning: '+init=<authority>:<code>' syntax is deprecated. '<authority>:<code>' is the preferred initialization method. When making the change, be mindful of axis order changes: https://pyproj4.github.io/pyproj/stable/gotchas.html#axis-order-changes-in-proj-6\n",
            "  return _prepare_from_string(\" \".join(pjargs))\n",
            "/usr/local/lib/python3.7/dist-packages/ipykernel_launcher.py:2: UserWarning: CRS mismatch between the CRS of left geometries and the CRS of right geometries.\n",
            "Use `to_crs()` to reproject one of the input geometries to match the CRS of the other.\n",
            "\n",
            "Left CRS: EPSG:4326\n",
            "Right CRS: +init=epsg:4326 +type=crs\n",
            "\n",
            "  \n"
          ],
          "name": "stderr"
        }
      ]
    },
    {
      "cell_type": "code",
      "metadata": {
        "colab": {
          "base_uri": "https://localhost:8080/"
        },
        "id": "XolTV_mCznBh",
        "outputId": "160a55c0-2887-4be0-b847-ed0f9da56214"
      },
      "source": [
        "linksToGeoJson.keys()"
      ],
      "execution_count": null,
      "outputs": [
        {
          "output_type": "execute_result",
          "data": {
            "text/plain": [
              "dict_keys(['los-angeles', 'asheville', 'austin', 'nashville', 'new-orleans'])"
            ]
          },
          "metadata": {
            "tags": []
          },
          "execution_count": 13
        }
      ]
    },
    {
      "cell_type": "code",
      "metadata": {
        "colab": {
          "base_uri": "https://localhost:8080/",
          "height": 206
        },
        "id": "QLipKwqKoc0z",
        "outputId": "11d11f4e-03a2-49ec-fc23-7ca4624d0ed5"
      },
      "source": [
        "df_loc=sj_gdf[['id','latitude','longitude','neighbourhood','metropolitan']].sort_values(['id'])\n",
        "df_loc['metropolitan']=df_loc['metropolitan'].replace({'LA':'los-angeles', 'new_orleans':'new-orleans'})\n",
        "df_loc.to_csv('Datasets/loc.csv',index=None) \n",
        "df_loc.head()"
      ],
      "execution_count": null,
      "outputs": [
        {
          "output_type": "execute_result",
          "data": {
            "text/html": [
              "<div>\n",
              "<style scoped>\n",
              "    .dataframe tbody tr th:only-of-type {\n",
              "        vertical-align: middle;\n",
              "    }\n",
              "\n",
              "    .dataframe tbody tr th {\n",
              "        vertical-align: top;\n",
              "    }\n",
              "\n",
              "    .dataframe thead th {\n",
              "        text-align: right;\n",
              "    }\n",
              "</style>\n",
              "<table border=\"1\" class=\"dataframe\">\n",
              "  <thead>\n",
              "    <tr style=\"text-align: right;\">\n",
              "      <th></th>\n",
              "      <th>id</th>\n",
              "      <th>latitude</th>\n",
              "      <th>longitude</th>\n",
              "      <th>neighbourhood</th>\n",
              "      <th>metropolitan</th>\n",
              "    </tr>\n",
              "  </thead>\n",
              "  <tbody>\n",
              "    <tr>\n",
              "      <th>97</th>\n",
              "      <td>109</td>\n",
              "      <td>33.982095</td>\n",
              "      <td>-118.384935</td>\n",
              "      <td>Culver City</td>\n",
              "      <td>los-angeles</td>\n",
              "    </tr>\n",
              "    <tr>\n",
              "      <th>87</th>\n",
              "      <td>344</td>\n",
              "      <td>34.165616</td>\n",
              "      <td>-118.334582</td>\n",
              "      <td>Burbank</td>\n",
              "      <td>los-angeles</td>\n",
              "    </tr>\n",
              "    <tr>\n",
              "      <th>200</th>\n",
              "      <td>941</td>\n",
              "      <td>34.071556</td>\n",
              "      <td>-118.350786</td>\n",
              "      <td>Fairfax</td>\n",
              "      <td>los-angeles</td>\n",
              "    </tr>\n",
              "    <tr>\n",
              "      <th>381</th>\n",
              "      <td>1078</td>\n",
              "      <td>30.301231</td>\n",
              "      <td>-97.736736</td>\n",
              "      <td>78705</td>\n",
              "      <td>austin</td>\n",
              "    </tr>\n",
              "    <tr>\n",
              "      <th>364</th>\n",
              "      <td>2265</td>\n",
              "      <td>30.277500</td>\n",
              "      <td>-97.713975</td>\n",
              "      <td>78702</td>\n",
              "      <td>austin</td>\n",
              "    </tr>\n",
              "  </tbody>\n",
              "</table>\n",
              "</div>"
            ],
            "text/plain": [
              "       id   latitude   longitude neighbourhood metropolitan\n",
              "97    109  33.982095 -118.384935   Culver City  los-angeles\n",
              "87    344  34.165616 -118.334582       Burbank  los-angeles\n",
              "200   941  34.071556 -118.350786       Fairfax  los-angeles\n",
              "381  1078  30.301231  -97.736736         78705       austin\n",
              "364  2265  30.277500  -97.713975         78702       austin"
            ]
          },
          "metadata": {
            "tags": []
          },
          "execution_count": 14
        }
      ]
    },
    {
      "cell_type": "markdown",
      "metadata": {
        "id": "6Q3AFfcbUmD9"
      },
      "source": [
        "# Debug"
      ]
    },
    {
      "cell_type": "code",
      "metadata": {
        "id": "frGo1lRrpl3g"
      },
      "source": [
        "# helper function to clean the dataset\n",
        "def cleanPrice(df,col_name):\n",
        "  def string2float(s):\n",
        "    try:\n",
        "      return Decimal(sub(r'[^\\d.]', '', s))\n",
        "    except:\n",
        "      return s\n",
        "  df[col_name]=df[col_name].apply(string2float).astype(float)\n",
        "  return df\n",
        "def cleanDate(df,period=None):\n",
        "  df['date']=pd.to_datetime(df['date'])\n",
        "  if period:\n",
        "    df['date']=df.date.dt.to_period(period)\n",
        "  return df\n",
        "\n",
        "def cleanCategory(df,col_name,mapping):\n",
        "  df[col_name]=df[col_name].replace(mapping)\n",
        "  return df"
      ],
      "execution_count": null,
      "outputs": []
    },
    {
      "cell_type": "code",
      "metadata": {
        "colab": {
          "base_uri": "https://localhost:8080/",
          "height": 206
        },
        "id": "2_1MCypYeTe9",
        "outputId": "0719da1d-9942-4dcb-d624-cc741cba137b"
      },
      "source": [
        "dset='loc'\n",
        "df_loc=pd.read_csv(f'./Datasets/{dset}.csv')\n",
        "df_loc.head()"
      ],
      "execution_count": null,
      "outputs": [
        {
          "output_type": "execute_result",
          "data": {
            "text/html": [
              "<div>\n",
              "<style scoped>\n",
              "    .dataframe tbody tr th:only-of-type {\n",
              "        vertical-align: middle;\n",
              "    }\n",
              "\n",
              "    .dataframe tbody tr th {\n",
              "        vertical-align: top;\n",
              "    }\n",
              "\n",
              "    .dataframe thead th {\n",
              "        text-align: right;\n",
              "    }\n",
              "</style>\n",
              "<table border=\"1\" class=\"dataframe\">\n",
              "  <thead>\n",
              "    <tr style=\"text-align: right;\">\n",
              "      <th></th>\n",
              "      <th>id</th>\n",
              "      <th>latitude</th>\n",
              "      <th>longitude</th>\n",
              "      <th>neighbourhood</th>\n",
              "      <th>metropolitan</th>\n",
              "    </tr>\n",
              "  </thead>\n",
              "  <tbody>\n",
              "    <tr>\n",
              "      <th>0</th>\n",
              "      <td>109</td>\n",
              "      <td>33.982095</td>\n",
              "      <td>-118.384935</td>\n",
              "      <td>Culver City</td>\n",
              "      <td>los-angeles</td>\n",
              "    </tr>\n",
              "    <tr>\n",
              "      <th>1</th>\n",
              "      <td>344</td>\n",
              "      <td>34.165616</td>\n",
              "      <td>-118.334582</td>\n",
              "      <td>Burbank</td>\n",
              "      <td>los-angeles</td>\n",
              "    </tr>\n",
              "    <tr>\n",
              "      <th>2</th>\n",
              "      <td>941</td>\n",
              "      <td>34.071556</td>\n",
              "      <td>-118.350786</td>\n",
              "      <td>Fairfax</td>\n",
              "      <td>los-angeles</td>\n",
              "    </tr>\n",
              "    <tr>\n",
              "      <th>3</th>\n",
              "      <td>1078</td>\n",
              "      <td>30.301231</td>\n",
              "      <td>-97.736736</td>\n",
              "      <td>78705</td>\n",
              "      <td>austin</td>\n",
              "    </tr>\n",
              "    <tr>\n",
              "      <th>4</th>\n",
              "      <td>2265</td>\n",
              "      <td>30.277500</td>\n",
              "      <td>-97.713975</td>\n",
              "      <td>78702</td>\n",
              "      <td>austin</td>\n",
              "    </tr>\n",
              "  </tbody>\n",
              "</table>\n",
              "</div>"
            ],
            "text/plain": [
              "     id   latitude   longitude neighbourhood metropolitan\n",
              "0   109  33.982095 -118.384935   Culver City  los-angeles\n",
              "1   344  34.165616 -118.334582       Burbank  los-angeles\n",
              "2   941  34.071556 -118.350786       Fairfax  los-angeles\n",
              "3  1078  30.301231  -97.736736         78705       austin\n",
              "4  2265  30.277500  -97.713975         78702       austin"
            ]
          },
          "metadata": {
            "tags": []
          },
          "execution_count": 16
        }
      ]
    },
    {
      "cell_type": "code",
      "metadata": {
        "colab": {
          "base_uri": "https://localhost:8080/",
          "height": 206
        },
        "id": "aFe4mF_yUpUD",
        "outputId": "c53a23b5-0de3-4395-d6a9-4cf0b71c0882"
      },
      "source": [
        "dset='calendar'\n",
        "df=pd.read_csv(f'./Datasets/{dset}.csv')\n",
        "df.head()"
      ],
      "execution_count": null,
      "outputs": [
        {
          "output_type": "execute_result",
          "data": {
            "text/html": [
              "<div>\n",
              "<style scoped>\n",
              "    .dataframe tbody tr th:only-of-type {\n",
              "        vertical-align: middle;\n",
              "    }\n",
              "\n",
              "    .dataframe tbody tr th {\n",
              "        vertical-align: top;\n",
              "    }\n",
              "\n",
              "    .dataframe thead th {\n",
              "        text-align: right;\n",
              "    }\n",
              "</style>\n",
              "<table border=\"1\" class=\"dataframe\">\n",
              "  <thead>\n",
              "    <tr style=\"text-align: right;\">\n",
              "      <th></th>\n",
              "      <th>listing_id</th>\n",
              "      <th>date</th>\n",
              "      <th>available</th>\n",
              "      <th>price</th>\n",
              "      <th>metro_area</th>\n",
              "    </tr>\n",
              "  </thead>\n",
              "  <tbody>\n",
              "    <tr>\n",
              "      <th>0</th>\n",
              "      <td>665257</td>\n",
              "      <td>2016-04-22</td>\n",
              "      <td>f</td>\n",
              "      <td>NaN</td>\n",
              "      <td>asheville</td>\n",
              "    </tr>\n",
              "    <tr>\n",
              "      <th>1</th>\n",
              "      <td>665257</td>\n",
              "      <td>2016-04-23</td>\n",
              "      <td>f</td>\n",
              "      <td>NaN</td>\n",
              "      <td>asheville</td>\n",
              "    </tr>\n",
              "    <tr>\n",
              "      <th>2</th>\n",
              "      <td>665257</td>\n",
              "      <td>2016-04-24</td>\n",
              "      <td>f</td>\n",
              "      <td>NaN</td>\n",
              "      <td>asheville</td>\n",
              "    </tr>\n",
              "    <tr>\n",
              "      <th>3</th>\n",
              "      <td>665257</td>\n",
              "      <td>2016-04-25</td>\n",
              "      <td>f</td>\n",
              "      <td>NaN</td>\n",
              "      <td>asheville</td>\n",
              "    </tr>\n",
              "    <tr>\n",
              "      <th>4</th>\n",
              "      <td>665257</td>\n",
              "      <td>2016-04-26</td>\n",
              "      <td>f</td>\n",
              "      <td>NaN</td>\n",
              "      <td>asheville</td>\n",
              "    </tr>\n",
              "  </tbody>\n",
              "</table>\n",
              "</div>"
            ],
            "text/plain": [
              "   listing_id        date available price metro_area\n",
              "0      665257  2016-04-22         f   NaN  asheville\n",
              "1      665257  2016-04-23         f   NaN  asheville\n",
              "2      665257  2016-04-24         f   NaN  asheville\n",
              "3      665257  2016-04-25         f   NaN  asheville\n",
              "4      665257  2016-04-26         f   NaN  asheville"
            ]
          },
          "metadata": {
            "tags": []
          },
          "execution_count": 17
        }
      ]
    },
    {
      "cell_type": "code",
      "metadata": {
        "colab": {
          "base_uri": "https://localhost:8080/",
          "height": 237
        },
        "id": "9n_Sd3DpVngt",
        "outputId": "fafea4ee-1ace-41a9-9a9c-84dae836d89d"
      },
      "source": [
        "df=cleanPrice(df,col_name='price')\n",
        "df=cleanDate(df,period='M')\n",
        "df=cleanCategory(df,col_name='available',mapping={'t':1,'f':0})\n",
        "\n",
        "\n",
        "df_gp=df.groupby(['listing_id','date']).mean()\n",
        "df_gp.to_csv('calendar_monthly.csv')\n",
        "df_gp.head()"
      ],
      "execution_count": null,
      "outputs": [
        {
          "output_type": "execute_result",
          "data": {
            "text/html": [
              "<div>\n",
              "<style scoped>\n",
              "    .dataframe tbody tr th:only-of-type {\n",
              "        vertical-align: middle;\n",
              "    }\n",
              "\n",
              "    .dataframe tbody tr th {\n",
              "        vertical-align: top;\n",
              "    }\n",
              "\n",
              "    .dataframe thead th {\n",
              "        text-align: right;\n",
              "    }\n",
              "</style>\n",
              "<table border=\"1\" class=\"dataframe\">\n",
              "  <thead>\n",
              "    <tr style=\"text-align: right;\">\n",
              "      <th></th>\n",
              "      <th></th>\n",
              "      <th>available</th>\n",
              "      <th>price</th>\n",
              "    </tr>\n",
              "    <tr>\n",
              "      <th>listing_id</th>\n",
              "      <th>date</th>\n",
              "      <th></th>\n",
              "      <th></th>\n",
              "    </tr>\n",
              "  </thead>\n",
              "  <tbody>\n",
              "    <tr>\n",
              "      <th rowspan=\"5\" valign=\"top\">109</th>\n",
              "      <th>2017-05</th>\n",
              "      <td>0.0</td>\n",
              "      <td>NaN</td>\n",
              "    </tr>\n",
              "    <tr>\n",
              "      <th>2017-06</th>\n",
              "      <td>0.0</td>\n",
              "      <td>NaN</td>\n",
              "    </tr>\n",
              "    <tr>\n",
              "      <th>2017-07</th>\n",
              "      <td>0.0</td>\n",
              "      <td>NaN</td>\n",
              "    </tr>\n",
              "    <tr>\n",
              "      <th>2017-08</th>\n",
              "      <td>0.0</td>\n",
              "      <td>NaN</td>\n",
              "    </tr>\n",
              "    <tr>\n",
              "      <th>2017-09</th>\n",
              "      <td>0.0</td>\n",
              "      <td>NaN</td>\n",
              "    </tr>\n",
              "  </tbody>\n",
              "</table>\n",
              "</div>"
            ],
            "text/plain": [
              "                    available  price\n",
              "listing_id date                     \n",
              "109        2017-05        0.0    NaN\n",
              "           2017-06        0.0    NaN\n",
              "           2017-07        0.0    NaN\n",
              "           2017-08        0.0    NaN\n",
              "           2017-09        0.0    NaN"
            ]
          },
          "metadata": {
            "tags": []
          },
          "execution_count": 18
        }
      ]
    },
    {
      "cell_type": "code",
      "metadata": {
        "colab": {
          "base_uri": "https://localhost:8080/",
          "height": 206
        },
        "id": "oMx8hGMws69Z",
        "outputId": "f555f6b7-6fa9-4f59-fda5-dd0c07f28131"
      },
      "source": [
        "df_gp_flat=df_gp.reset_index().set_index('listing_id')\n",
        "join_df=df_gp_flat.join(df_loc.set_index('id'))\n",
        "join_df.head()"
      ],
      "execution_count": null,
      "outputs": [
        {
          "output_type": "execute_result",
          "data": {
            "text/html": [
              "<div>\n",
              "<style scoped>\n",
              "    .dataframe tbody tr th:only-of-type {\n",
              "        vertical-align: middle;\n",
              "    }\n",
              "\n",
              "    .dataframe tbody tr th {\n",
              "        vertical-align: top;\n",
              "    }\n",
              "\n",
              "    .dataframe thead th {\n",
              "        text-align: right;\n",
              "    }\n",
              "</style>\n",
              "<table border=\"1\" class=\"dataframe\">\n",
              "  <thead>\n",
              "    <tr style=\"text-align: right;\">\n",
              "      <th></th>\n",
              "      <th>date</th>\n",
              "      <th>available</th>\n",
              "      <th>price</th>\n",
              "      <th>latitude</th>\n",
              "      <th>longitude</th>\n",
              "      <th>neighbourhood</th>\n",
              "      <th>metropolitan</th>\n",
              "    </tr>\n",
              "  </thead>\n",
              "  <tbody>\n",
              "    <tr>\n",
              "      <th>109</th>\n",
              "      <td>2017-05</td>\n",
              "      <td>0.0</td>\n",
              "      <td>NaN</td>\n",
              "      <td>33.982095</td>\n",
              "      <td>-118.384935</td>\n",
              "      <td>Culver City</td>\n",
              "      <td>los-angeles</td>\n",
              "    </tr>\n",
              "    <tr>\n",
              "      <th>109</th>\n",
              "      <td>2017-06</td>\n",
              "      <td>0.0</td>\n",
              "      <td>NaN</td>\n",
              "      <td>33.982095</td>\n",
              "      <td>-118.384935</td>\n",
              "      <td>Culver City</td>\n",
              "      <td>los-angeles</td>\n",
              "    </tr>\n",
              "    <tr>\n",
              "      <th>109</th>\n",
              "      <td>2017-07</td>\n",
              "      <td>0.0</td>\n",
              "      <td>NaN</td>\n",
              "      <td>33.982095</td>\n",
              "      <td>-118.384935</td>\n",
              "      <td>Culver City</td>\n",
              "      <td>los-angeles</td>\n",
              "    </tr>\n",
              "    <tr>\n",
              "      <th>109</th>\n",
              "      <td>2017-08</td>\n",
              "      <td>0.0</td>\n",
              "      <td>NaN</td>\n",
              "      <td>33.982095</td>\n",
              "      <td>-118.384935</td>\n",
              "      <td>Culver City</td>\n",
              "      <td>los-angeles</td>\n",
              "    </tr>\n",
              "    <tr>\n",
              "      <th>109</th>\n",
              "      <td>2017-09</td>\n",
              "      <td>0.0</td>\n",
              "      <td>NaN</td>\n",
              "      <td>33.982095</td>\n",
              "      <td>-118.384935</td>\n",
              "      <td>Culver City</td>\n",
              "      <td>los-angeles</td>\n",
              "    </tr>\n",
              "  </tbody>\n",
              "</table>\n",
              "</div>"
            ],
            "text/plain": [
              "        date  available  price  ...   longitude  neighbourhood metropolitan\n",
              "109  2017-05        0.0    NaN  ... -118.384935    Culver City  los-angeles\n",
              "109  2017-06        0.0    NaN  ... -118.384935    Culver City  los-angeles\n",
              "109  2017-07        0.0    NaN  ... -118.384935    Culver City  los-angeles\n",
              "109  2017-08        0.0    NaN  ... -118.384935    Culver City  los-angeles\n",
              "109  2017-09        0.0    NaN  ... -118.384935    Culver City  los-angeles\n",
              "\n",
              "[5 rows x 7 columns]"
            ]
          },
          "metadata": {
            "tags": []
          },
          "execution_count": 19
        }
      ]
    },
    {
      "cell_type": "code",
      "metadata": {
        "colab": {
          "base_uri": "https://localhost:8080/",
          "height": 206
        },
        "id": "5k8GgjdIvK1E",
        "outputId": "d5105f41-6cc9-4f40-c45c-df3bae556399"
      },
      "source": [
        "agg_df=join_df.groupby(['metropolitan','neighbourhood','date']).agg({'available':['count','mean'],'price':'mean'})\n",
        "agg_df.columns=['number of listings','occupancy rate','mean price'] #rename columns\n",
        "agg_df=agg_df.reset_index() # flatten the index\n",
        "agg_df['date']=agg_df['date'].astype(str)\n",
        "\n",
        "agg_df.to_csv('calendar_geo.csv',index=None)\n",
        "agg_df.head()\n"
      ],
      "execution_count": null,
      "outputs": [
        {
          "output_type": "execute_result",
          "data": {
            "text/html": [
              "<div>\n",
              "<style scoped>\n",
              "    .dataframe tbody tr th:only-of-type {\n",
              "        vertical-align: middle;\n",
              "    }\n",
              "\n",
              "    .dataframe tbody tr th {\n",
              "        vertical-align: top;\n",
              "    }\n",
              "\n",
              "    .dataframe thead th {\n",
              "        text-align: right;\n",
              "    }\n",
              "</style>\n",
              "<table border=\"1\" class=\"dataframe\">\n",
              "  <thead>\n",
              "    <tr style=\"text-align: right;\">\n",
              "      <th></th>\n",
              "      <th>metropolitan</th>\n",
              "      <th>neighbourhood</th>\n",
              "      <th>date</th>\n",
              "      <th>number of listings</th>\n",
              "      <th>occupancy rate</th>\n",
              "      <th>mean price</th>\n",
              "    </tr>\n",
              "  </thead>\n",
              "  <tbody>\n",
              "    <tr>\n",
              "      <th>0</th>\n",
              "      <td>asheville</td>\n",
              "      <td>28704</td>\n",
              "      <td>2016-04</td>\n",
              "      <td>30</td>\n",
              "      <td>0.488906</td>\n",
              "      <td>89.805714</td>\n",
              "    </tr>\n",
              "    <tr>\n",
              "      <th>1</th>\n",
              "      <td>asheville</td>\n",
              "      <td>28704</td>\n",
              "      <td>2016-05</td>\n",
              "      <td>30</td>\n",
              "      <td>0.672043</td>\n",
              "      <td>99.707694</td>\n",
              "    </tr>\n",
              "    <tr>\n",
              "      <th>2</th>\n",
              "      <td>asheville</td>\n",
              "      <td>28704</td>\n",
              "      <td>2016-06</td>\n",
              "      <td>30</td>\n",
              "      <td>0.717778</td>\n",
              "      <td>96.511084</td>\n",
              "    </tr>\n",
              "    <tr>\n",
              "      <th>3</th>\n",
              "      <td>asheville</td>\n",
              "      <td>28704</td>\n",
              "      <td>2016-07</td>\n",
              "      <td>30</td>\n",
              "      <td>0.693548</td>\n",
              "      <td>95.092548</td>\n",
              "    </tr>\n",
              "    <tr>\n",
              "      <th>4</th>\n",
              "      <td>asheville</td>\n",
              "      <td>28704</td>\n",
              "      <td>2016-08</td>\n",
              "      <td>30</td>\n",
              "      <td>0.753763</td>\n",
              "      <td>104.369899</td>\n",
              "    </tr>\n",
              "  </tbody>\n",
              "</table>\n",
              "</div>"
            ],
            "text/plain": [
              "  metropolitan neighbourhood  ... occupancy rate  mean price\n",
              "0    asheville         28704  ...       0.488906   89.805714\n",
              "1    asheville         28704  ...       0.672043   99.707694\n",
              "2    asheville         28704  ...       0.717778   96.511084\n",
              "3    asheville         28704  ...       0.693548   95.092548\n",
              "4    asheville         28704  ...       0.753763  104.369899\n",
              "\n",
              "[5 rows x 6 columns]"
            ]
          },
          "metadata": {
            "tags": []
          },
          "execution_count": 20
        }
      ]
    },
    {
      "cell_type": "code",
      "metadata": {
        "id": "wGr1C8iwCLAE"
      },
      "source": [
        "# helper function to plot the choropleth map given \n",
        "def plot_SpatialTemporal(df_toplot,counties,key,hover_keys,out_filename):\n",
        "  fig = px.choropleth(df_toplot,geojson=counties,locations='neighbourhood',\n",
        "                      featureidkey='properties.neighbourhood',\n",
        "                      color=key,\n",
        "                      color_continuous_scale=\"Viridis\",\n",
        "                      scope=\"usa\",\n",
        "                      range_color=[df_toplot[key].min(),df_toplot[key].max()],\n",
        "                      animation_frame=\"date\",    \n",
        "                      hover_data=hover_keys,\n",
        "                      )\n",
        "  fig.update_layout(margin={\"r\":0,\"t\":0,\"l\":0,\"b\":0})\n",
        "  fig.update_geos(fitbounds=\"locations\")\n",
        "  # fig.show()\n",
        "  fname=f\"./plotly-st/{out_filename}.html\"\n",
        "  fig.write_html(fname) # hardcoded to convert `median_XXX` to `XXX`"
      ],
      "execution_count": null,
      "outputs": []
    },
    {
      "cell_type": "code",
      "metadata": {
        "colab": {
          "base_uri": "https://localhost:8080/"
        },
        "id": "VzODg1yPDRWM",
        "outputId": "4f829576-6325-4185-b8b3-e57709534995"
      },
      "source": [
        "keys=['number of listings', 'occupancy rate', 'mean price']\n",
        "for key in keys[1:]:\n",
        "  for region in regions[:-1]:\n",
        "    Path(f\"./plotly-st/{dset}/{region}\").mkdir(parents=True, exist_ok=True)\n",
        "    print(f'Plotting {key} in {region}...')\n",
        "    counties = json.load(open(f'geoJson/{region}.geojson'))\n",
        "    df_toplot = agg_df[agg_df['metropolitan']==region]\n",
        "    plot_SpatialTemporal(df_toplot,counties,key,keys,out_filename=f'{dset}/{region}/{key.replace(\" \",\"-\")}')"
      ],
      "execution_count": null,
      "outputs": [
        {
          "output_type": "stream",
          "text": [
            "Plotting occupancy rate in los-angeles...\n",
            "Plotting occupancy rate in asheville...\n",
            "Plotting occupancy rate in austin...\n",
            "Plotting occupancy rate in nashville...\n",
            "Plotting occupancy rate in new-orleans...\n",
            "Plotting mean price in los-angeles...\n",
            "Plotting mean price in asheville...\n",
            "Plotting mean price in austin...\n",
            "Plotting mean price in nashville...\n",
            "Plotting mean price in new-orleans...\n"
          ],
          "name": "stdout"
        }
      ]
    },
    {
      "cell_type": "code",
      "metadata": {
        "id": "vjs0-I9TI8Cg"
      },
      "source": [
        ""
      ],
      "execution_count": null,
      "outputs": []
    }
  ]
}