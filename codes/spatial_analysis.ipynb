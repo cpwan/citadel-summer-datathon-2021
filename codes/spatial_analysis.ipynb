{
  "nbformat": 4,
  "nbformat_minor": 0,
  "metadata": {
    "colab": {
      "name": "spatial analysis.ipynb",
      "provenance": [],
      "authorship_tag": "ABX9TyOtuZsBWbgCXTWxR3QeY8Gb",
      "include_colab_link": true
    },
    "kernelspec": {
      "name": "python3",
      "display_name": "Python 3"
    },
    "language_info": {
      "name": "python"
    }
  },
  "cells": [
    {
      "cell_type": "markdown",
      "metadata": {
        "id": "view-in-github",
        "colab_type": "text"
      },
      "source": [
        "<a href=\"https://colab.research.google.com/github/cpwan/citadel-summer-datathon-2021/blob/eda/spatial_analysis.ipynb\" target=\"_parent\"><img src=\"https://colab.research.google.com/assets/colab-badge.svg\" alt=\"Open In Colab\"/></a>"
      ]
    },
    {
      "cell_type": "markdown",
      "metadata": {
        "id": "brOax5BOTRNL"
      },
      "source": [
        "# Dependency"
      ]
    },
    {
      "cell_type": "code",
      "metadata": {
        "colab": {
          "base_uri": "https://localhost:8080/"
        },
        "id": "o3u8ogSxTQOB",
        "outputId": "e5569617-f881-4252-a05b-c9815cfa2f59"
      },
      "source": [
        "!pip install pysal -q\n",
        "!pip install plotly==5.1.0 -q"
      ],
      "execution_count": 1,
      "outputs": [
        {
          "output_type": "stream",
          "text": [
            "\u001b[K     |████████████████████████████████| 2.4MB 10.0MB/s \n",
            "\u001b[K     |████████████████████████████████| 112kB 48.9MB/s \n",
            "\u001b[K     |████████████████████████████████| 61kB 8.1MB/s \n",
            "\u001b[K     |████████████████████████████████| 61kB 4.6MB/s \n",
            "\u001b[K     |████████████████████████████████| 163kB 28.5MB/s \n",
            "\u001b[K     |████████████████████████████████| 51kB 6.7MB/s \n",
            "\u001b[K     |████████████████████████████████| 51kB 5.4MB/s \n",
            "\u001b[K     |████████████████████████████████| 215kB 29.6MB/s \n",
            "\u001b[K     |████████████████████████████████| 5.7MB 32.2MB/s \n",
            "\u001b[K     |████████████████████████████████| 71kB 6.9MB/s \n",
            "\u001b[K     |████████████████████████████████| 143kB 52.6MB/s \n",
            "\u001b[K     |████████████████████████████████| 235kB 44.2MB/s \n",
            "\u001b[K     |████████████████████████████████| 245kB 39.7MB/s \n",
            "\u001b[K     |████████████████████████████████| 56.1MB 53kB/s \n",
            "\u001b[K     |████████████████████████████████| 1.0MB 38.2MB/s \n",
            "\u001b[K     |████████████████████████████████| 2.0MB 39.3MB/s \n",
            "\u001b[K     |████████████████████████████████| 1.0MB 27.7MB/s \n",
            "\u001b[K     |████████████████████████████████| 19.3MB 1.3MB/s \n",
            "\u001b[K     |████████████████████████████████| 40.6MB 1.3MB/s \n",
            "\u001b[K     |████████████████████████████████| 6.6MB 31.1MB/s \n",
            "\u001b[K     |████████████████████████████████| 15.4MB 205kB/s \n",
            "\u001b[K     |████████████████████████████████| 133kB 55.1MB/s \n",
            "\u001b[?25h  Building wheel for pysal (setup.py) ... \u001b[?25l\u001b[?25hdone\n",
            "  Building wheel for inequality (setup.py) ... \u001b[?25l\u001b[?25hdone\n",
            "  Building wheel for pointpats (setup.py) ... \u001b[?25l\u001b[?25hdone\n",
            "  Building wheel for mgwr (setup.py) ... \u001b[?25l\u001b[?25hdone\n",
            "  Building wheel for spglm (setup.py) ... \u001b[?25l\u001b[?25hdone\n",
            "  Building wheel for spint (setup.py) ... \u001b[?25l\u001b[?25hdone\n",
            "  Building wheel for spvcm (setup.py) ... \u001b[?25l\u001b[?25hdone\n",
            "  Building wheel for splot (setup.py) ... \u001b[?25l\u001b[?25hdone\n",
            "\u001b[31mERROR: requests 2.23.0 has requirement urllib3!=1.25.0,!=1.25.1,<1.26,>=1.21.1, but you'll have urllib3 1.26.6 which is incompatible.\u001b[0m\n",
            "\u001b[31mERROR: datascience 0.10.6 has requirement folium==0.2.1, but you'll have folium 0.8.3 which is incompatible.\u001b[0m\n",
            "\u001b[31mERROR: albumentations 0.1.12 has requirement imgaug<0.2.7,>=0.2.5, but you'll have imgaug 0.2.9 which is incompatible.\u001b[0m\n",
            "\u001b[31mERROR: pytest-cov 2.12.1 has requirement coverage>=5.2.1, but you'll have coverage 3.7.1 which is incompatible.\u001b[0m\n",
            "\u001b[31mERROR: pytest-cov 2.12.1 has requirement pytest>=4.6, but you'll have pytest 3.6.4 which is incompatible.\u001b[0m\n",
            "\u001b[K     |████████████████████████████████| 20.6MB 1.2MB/s \n",
            "\u001b[?25h"
          ],
          "name": "stdout"
        }
      ]
    },
    {
      "cell_type": "markdown",
      "metadata": {
        "id": "ARkTxB6HTT3A"
      },
      "source": [
        "# Download data"
      ]
    },
    {
      "cell_type": "code",
      "metadata": {
        "colab": {
          "base_uri": "https://localhost:8080/"
        },
        "id": "SDQPg0ApcZGE",
        "outputId": "0dc45764-2d82-4c2b-9905-739bb25baa3e"
      },
      "source": [
        "!gdown --id 1ecgxSTxCmhCvVTSFgUBRGVjyGf3rLREW -O dataset.zip"
      ],
      "execution_count": 2,
      "outputs": [
        {
          "output_type": "stream",
          "text": [
            "Downloading...\n",
            "From: https://drive.google.com/uc?id=1ecgxSTxCmhCvVTSFgUBRGVjyGf3rLREW\n",
            "To: /content/dataset.zip\n",
            "69.1MB [00:02, 30.1MB/s]\n"
          ],
          "name": "stdout"
        }
      ]
    },
    {
      "cell_type": "code",
      "metadata": {
        "colab": {
          "base_uri": "https://localhost:8080/"
        },
        "id": "yZwM-xTMceNQ",
        "outputId": "0396ed4f-65a5-4da9-bc1c-3eeaf712cbf6"
      },
      "source": [
        "!unzip dataset.zip"
      ],
      "execution_count": 3,
      "outputs": [
        {
          "output_type": "stream",
          "text": [
            "Archive:  dataset.zip\n",
            "  inflating: Datasets/econ_state.csv  \n",
            "  inflating: Datasets/demographics.csv  \n",
            "  inflating: Datasets/venues.csv.gz  \n",
            "  inflating: Datasets/real_estate.csv.gz  \n",
            "  inflating: Datasets/listings.csv   \n",
            "  inflating: Datasets/calendar.csv.gz  \n"
          ],
          "name": "stdout"
        }
      ]
    },
    {
      "cell_type": "code",
      "metadata": {
        "id": "bPWSf9bgcfwm"
      },
      "source": [
        "!gzip -dk Datasets/*.gz"
      ],
      "execution_count": 4,
      "outputs": []
    },
    {
      "cell_type": "code",
      "metadata": {
        "id": "uWIV6alxdPg4"
      },
      "source": [
        "linksToGeoJson={\n",
        "    'los-angeles':'http://data.insideairbnb.com/united-states/ca/los-angeles/2021-04-07/visualisations/neighbourhoods.geojson',\n",
        "    \"asheville\":\"http://data.insideairbnb.com/united-states/nc/asheville/2021-04-19/visualisations/neighbourhoods.geojson\",\n",
        "    \"austin\":\"http://data.insideairbnb.com/united-states/tx/austin/2021-04-16/visualisations/neighbourhoods.geojson\",\n",
        "    \"nashville\":\"http://data.insideairbnb.com/united-states/tn/nashville/2021-02-19/visualisations/neighbourhoods.geojson\",\n",
        "    \"new-orleans\":\"http://data.insideairbnb.com/united-states/la/new-orleans/2021-04-10/visualisations/neighbourhoods.geojson\"\n",
        "}"
      ],
      "execution_count": 5,
      "outputs": []
    },
    {
      "cell_type": "code",
      "metadata": {
        "colab": {
          "base_uri": "https://localhost:8080/"
        },
        "id": "_ZYdZyjHdbDR",
        "outputId": "dbe07ea9-214b-4db5-ce14-d14f450e6559"
      },
      "source": [
        "!mkdir geoJson\n",
        "import urllib.request \n",
        "for (filename,url) in linksToGeoJson.items():\n",
        "  print('Downloading', filename)\n",
        "  urllib.request.urlretrieve(url, f'geoJson/{filename}.geojson')"
      ],
      "execution_count": 6,
      "outputs": [
        {
          "output_type": "stream",
          "text": [
            "Downloading los-angeles\n",
            "Downloading asheville\n",
            "Downloading austin\n",
            "Downloading nashville\n",
            "Downloading new-orleans\n"
          ],
          "name": "stdout"
        }
      ]
    },
    {
      "cell_type": "markdown",
      "metadata": {
        "id": "YhfL0zPVTYEH"
      },
      "source": [
        "# Load data"
      ]
    },
    {
      "cell_type": "code",
      "metadata": {
        "colab": {
          "base_uri": "https://localhost:8080/"
        },
        "id": "Dst0KvAWTiTf",
        "outputId": "1be4595c-7e11-4e01-ba35-0dffb3badefa"
      },
      "source": [
        "# dsets: name of csv\n",
        "# regions: the geo-region to look at, specified by the filename of the geojsons\n",
        "dsets=['listings','calendar','demographics','econ_state','real_estate','venues']\n",
        "regions=[*linksToGeoJson.keys()]\n",
        "regions"
      ],
      "execution_count": 18,
      "outputs": [
        {
          "output_type": "execute_result",
          "data": {
            "text/plain": [
              "['los-angeles', 'asheville', 'austin', 'nashville', 'new-orleans']"
            ]
          },
          "metadata": {
            "tags": []
          },
          "execution_count": 18
        }
      ]
    },
    {
      "cell_type": "code",
      "metadata": {
        "colab": {
          "base_uri": "https://localhost:8080/"
        },
        "id": "x4KVzkzbch_c",
        "outputId": "0cc6987d-d21f-48cc-b975-f188a58a9869"
      },
      "source": [
        "import esda\n",
        "import pandas as pd\n",
        "import geopandas as gpd\n",
        "from geopandas import GeoDataFrame\n",
        "import libpysal as lps\n",
        "import numpy as np\n",
        "import matplotlib.pyplot as plt\n",
        "from shapely.geometry import Point\n",
        "\n",
        "from re import sub\n",
        "from decimal import Decimal\n",
        "\n",
        "import json\n",
        "from pathlib import Path\n",
        "\n",
        "import plotly.express as px\n",
        "\n",
        "%matplotlib inline"
      ],
      "execution_count": 8,
      "outputs": [
        {
          "output_type": "stream",
          "text": [
            "/usr/local/lib/python3.7/dist-packages/geopandas/_compat.py:110: UserWarning: The Shapely GEOS version (3.8.0-CAPI-1.13.1 ) is incompatible with the GEOS version PyGEOS was compiled with (3.9.1-CAPI-1.14.2). Conversions between both will be slow.\n",
            "  shapely_geos_version, geos_capi_version_string\n",
            "/usr/local/lib/python3.7/dist-packages/requests/__init__.py:91: RequestsDependencyWarning: urllib3 (1.26.6) or chardet (3.0.4) doesn't match a supported version!\n",
            "  RequestsDependencyWarning)\n"
          ],
          "name": "stderr"
        }
      ]
    },
    {
      "cell_type": "markdown",
      "metadata": {
        "id": "9YV4ywgWYson"
      },
      "source": [
        "## Helper functions"
      ]
    },
    {
      "cell_type": "code",
      "metadata": {
        "id": "YmCmASirT9Pv"
      },
      "source": [
        "# helper function to clean the dataset\n",
        "def cleanPrice(df):\n",
        "  def string2float(s):\n",
        "    return Decimal(sub(r'[^\\d.]', '', s))\n",
        "  df['price']=df['price'].apply(string2float).astype(float)\n",
        "  return df"
      ],
      "execution_count": 27,
      "outputs": []
    },
    {
      "cell_type": "code",
      "metadata": {
        "id": "vVNLz9E6UfyK"
      },
      "source": [
        "# helper function to convert dataframe to GeoDataFrame\n",
        "def constructGDF(df):\n",
        "  geometry = [Point(xy) for xy in zip(df.longitude, df.latitude)]\n",
        "  crs = {'init': 'epsg:4326'} \n",
        "  bl_gdf = GeoDataFrame(df, crs=crs, geometry=geometry)\n",
        "  return bl_gdf"
      ],
      "execution_count": 28,
      "outputs": []
    },
    {
      "cell_type": "code",
      "metadata": {
        "id": "4bzRHF2yU0tR"
      },
      "source": [
        "# helper function to get the median (mean) of each neighbourhood\n",
        "def getMedian(df,gdf,key):\n",
        "  median=df[key].groupby([df['neighbourhood']]).mean()\n",
        "  gdf = gdf.join(median, on='neighbourhood')\n",
        "  gdf.rename(columns={key: f'median_{key}'}, inplace=True)\n",
        "  return gdf"
      ],
      "execution_count": 29,
      "outputs": []
    },
    {
      "cell_type": "code",
      "metadata": {
        "id": "OqN7R2VpWJUK"
      },
      "source": [
        "# helper function to plot the choropleth map given \n",
        "def plot_plotly(gdf,counties,key,dset,region):\n",
        "  fig = px.choropleth(gdf,geojson=counties,locations='neighbourhood',\n",
        "                    featureidkey='properties.neighbourhood',\n",
        "                    color=key,\n",
        "                          color_continuous_scale=\"Viridis\",\n",
        "                          scope=\"usa\",\n",
        "                          labels={key:key[7:]}\n",
        "                          )\n",
        "  fig.update_layout(margin={\"r\":0,\"t\":0,\"l\":0,\"b\":0})\n",
        "  fig.update_geos(fitbounds=\"locations\")\n",
        "  # fig.show()\n",
        "  fname=f\"./plotly/{dset}/{region}/{key[7:]}.html\"\n",
        "  fig.write_html(fname) # hardcoded to convert `median_XXX` to `XXX`\n",
        "  print('Figure saved to ', fname)\n",
        "  return fig"
      ],
      "execution_count": 30,
      "outputs": []
    },
    {
      "cell_type": "markdown",
      "metadata": {
        "id": "6TBH1P9qYwL1"
      },
      "source": [
        "## Driver code for aggregating values in neighbourhoods and plotting in plotly"
      ]
    },
    {
      "cell_type": "code",
      "metadata": {
        "id": "IK4Bbh1xUKwv"
      },
      "source": [
        "def aggregateByNbhd(dset,region):\n",
        "  df=pd.read_csv(f'./Datasets/{dset}.csv')\n",
        "  try:\n",
        "    df=cleanPrice(df)\n",
        "  except:\n",
        "    print(\"Cleaning skipped: Price not in dataframe\")\n",
        "  \n",
        "  gdf = gpd.read_file(f'geoJson/{region}.geojson')\n",
        "\n",
        "  region_gdf=constructGDF(df)\n",
        "  sj_gdf = gpd.sjoin(gdf, region_gdf, how='inner', op='intersects', lsuffix='left', rsuffix='right')\n",
        "\n",
        "  for k in sj_gdf.keys():\n",
        "    try:\n",
        "      gdf=getMedian(sj_gdf,gdf,k)\n",
        "    except:\n",
        "      print(\"Cannot get median of \", k)\n",
        "  return gdf\n",
        "\n",
        "def plotAndSave(gdf,dset,region):\n",
        "  Path(f\"./plotly/{dset}/{region}\").mkdir(parents=True, exist_ok=True)\n",
        "  counties = json.load(open(f'geoJson/{region}.geojson'))\n",
        "  for key in gdf.keys():\n",
        "    if 'median' in key:\n",
        "      plot_plotly(gdf,counties,key,dset,region)"
      ],
      "execution_count": 31,
      "outputs": []
    },
    {
      "cell_type": "markdown",
      "metadata": {
        "id": "zw1LJSJ7Y3Yl"
      },
      "source": [
        "## Run the driver code to obtain plots"
      ]
    },
    {
      "cell_type": "code",
      "metadata": {
        "colab": {
          "base_uri": "https://localhost:8080/"
        },
        "id": "QVFrQhvZXERT",
        "outputId": "9892f9b3-d4b7-4fcf-aa66-515cd0a241c9"
      },
      "source": [
        "# # Demo\n",
        "# dset=dsets[0]\n",
        "# region=regions[0]\n",
        "# print(f'Dataset: {dset}, Region: {region}')\n",
        "# gdf=aggregateByNbhd(dset,region)\n",
        "# plotAndSave(gdf,dset,region)\n",
        "# print(\"Done\")"
      ],
      "execution_count": 33,
      "outputs": [
        {
          "output_type": "stream",
          "text": [
            "Dataset: listings, Region: los-angeles\n"
          ],
          "name": "stdout"
        },
        {
          "output_type": "stream",
          "text": [
            "/usr/local/lib/python3.7/dist-packages/pyproj/crs/crs.py:68: FutureWarning:\n",
            "\n",
            "'+init=<authority>:<code>' syntax is deprecated. '<authority>:<code>' is the preferred initialization method. When making the change, be mindful of axis order changes: https://pyproj4.github.io/pyproj/stable/gotchas.html#axis-order-changes-in-proj-6\n",
            "\n",
            "/usr/local/lib/python3.7/dist-packages/ipykernel_launcher.py:11: UserWarning:\n",
            "\n",
            "CRS mismatch between the CRS of left geometries and the CRS of right geometries.\n",
            "Use `to_crs()` to reproject one of the input geometries to match the CRS of the other.\n",
            "\n",
            "Left CRS: EPSG:4326\n",
            "Right CRS: +init=epsg:4326 +type=crs\n",
            "\n",
            "\n"
          ],
          "name": "stderr"
        },
        {
          "output_type": "stream",
          "text": [
            "Cannot get median of  neighbourhood\n",
            "Cannot get median of  neighbourhood_group\n",
            "Cannot get median of  geometry\n",
            "Cannot get median of  amenities\n",
            "Cannot get median of  bed_type\n",
            "Cannot get median of  cancellation_policy\n",
            "Cannot get median of  city\n",
            "Cannot get median of  instant_bookable\n",
            "Cannot get median of  metropolitan\n",
            "Cannot get median of  name\n",
            "Cannot get median of  property_type\n",
            "Cannot get median of  room_type\n",
            "Cannot get median of  state\n",
            "Cannot get median of  weekly_price\n",
            "Cannot get median of  zipcode\n",
            "Figure saved to  ./plotly/listings/los-angeles/index_right.html\n",
            "Figure saved to  ./plotly/listings/los-angeles/accommodates.html\n",
            "Figure saved to  ./plotly/listings/los-angeles/availability_30.html\n",
            "Figure saved to  ./plotly/listings/los-angeles/bathrooms.html\n",
            "Figure saved to  ./plotly/listings/los-angeles/bedrooms.html\n",
            "Figure saved to  ./plotly/listings/los-angeles/beds.html\n",
            "Figure saved to  ./plotly/listings/los-angeles/has_availability.html\n",
            "Figure saved to  ./plotly/listings/los-angeles/host_id.html\n",
            "Figure saved to  ./plotly/listings/los-angeles/id.html\n",
            "Figure saved to  ./plotly/listings/los-angeles/latitude.html\n",
            "Figure saved to  ./plotly/listings/los-angeles/longitude.html\n",
            "Figure saved to  ./plotly/listings/los-angeles/price.html\n",
            "Figure saved to  ./plotly/listings/los-angeles/review_scores_checkin.html\n",
            "Figure saved to  ./plotly/listings/los-angeles/review_scores_cleanliness.html\n",
            "Figure saved to  ./plotly/listings/los-angeles/review_scores_communication.html\n",
            "Figure saved to  ./plotly/listings/los-angeles/review_scores_location.html\n",
            "Figure saved to  ./plotly/listings/los-angeles/review_scores_rating.html\n",
            "Figure saved to  ./plotly/listings/los-angeles/review_scores_value.html\n",
            "Done\n"
          ],
          "name": "stdout"
        }
      ]
    },
    {
      "cell_type": "code",
      "metadata": {
        "colab": {
          "base_uri": "https://localhost:8080/"
        },
        "id": "9vGkCat1aL6Q",
        "outputId": "072e0811-4324-4dcc-c88a-a445c6bbec78"
      },
      "source": [
        "dsets"
      ],
      "execution_count": 37,
      "outputs": [
        {
          "output_type": "execute_result",
          "data": {
            "text/plain": [
              "['listings', 'calendar', 'demographics', 'econ_state', 'real_estate', 'venues']"
            ]
          },
          "metadata": {
            "tags": []
          },
          "execution_count": 37
        }
      ]
    },
    {
      "cell_type": "code",
      "metadata": {
        "colab": {
          "base_uri": "https://localhost:8080/"
        },
        "id": "Jz02JPNtY_93",
        "outputId": "1f01cbfb-a8fd-451a-86cb-e1b8780363c3"
      },
      "source": [
        "# only 'listings' and 'venues' has the geo-coords, \n",
        "# for other dataset, consider joining them with listings/venues\n",
        "for dset in ['listings','venues']:\n",
        "  for region in regions:\n",
        "    print(f'Dataset: {dset}, Region: {region}')\n",
        "    try:\n",
        "      gdf=aggregateByNbhd(dset,region)\n",
        "      plotAndSave(gdf,dset,region)\n",
        "    except Exception as e:\n",
        "      print(\"Aggregation/plotting failed: \",e)\n",
        "    print(\"Done\")"
      ],
      "execution_count": 39,
      "outputs": [
        {
          "output_type": "stream",
          "text": [
            "Dataset: listings, Region: los-angeles\n"
          ],
          "name": "stdout"
        },
        {
          "output_type": "stream",
          "text": [
            "/usr/local/lib/python3.7/dist-packages/pyproj/crs/crs.py:68: FutureWarning:\n",
            "\n",
            "'+init=<authority>:<code>' syntax is deprecated. '<authority>:<code>' is the preferred initialization method. When making the change, be mindful of axis order changes: https://pyproj4.github.io/pyproj/stable/gotchas.html#axis-order-changes-in-proj-6\n",
            "\n",
            "/usr/local/lib/python3.7/dist-packages/ipykernel_launcher.py:11: UserWarning:\n",
            "\n",
            "CRS mismatch between the CRS of left geometries and the CRS of right geometries.\n",
            "Use `to_crs()` to reproject one of the input geometries to match the CRS of the other.\n",
            "\n",
            "Left CRS: EPSG:4326\n",
            "Right CRS: +init=epsg:4326 +type=crs\n",
            "\n",
            "\n"
          ],
          "name": "stderr"
        },
        {
          "output_type": "stream",
          "text": [
            "Cannot get median of  neighbourhood\n",
            "Cannot get median of  neighbourhood_group\n",
            "Cannot get median of  geometry\n",
            "Cannot get median of  amenities\n",
            "Cannot get median of  bed_type\n",
            "Cannot get median of  cancellation_policy\n",
            "Cannot get median of  city\n",
            "Cannot get median of  instant_bookable\n",
            "Cannot get median of  metropolitan\n",
            "Cannot get median of  name\n",
            "Cannot get median of  property_type\n",
            "Cannot get median of  room_type\n",
            "Cannot get median of  state\n",
            "Cannot get median of  weekly_price\n",
            "Cannot get median of  zipcode\n",
            "Figure saved to  ./plotly/listings/los-angeles/index_right.html\n",
            "Figure saved to  ./plotly/listings/los-angeles/accommodates.html\n",
            "Figure saved to  ./plotly/listings/los-angeles/availability_30.html\n",
            "Figure saved to  ./plotly/listings/los-angeles/bathrooms.html\n",
            "Figure saved to  ./plotly/listings/los-angeles/bedrooms.html\n",
            "Figure saved to  ./plotly/listings/los-angeles/beds.html\n",
            "Figure saved to  ./plotly/listings/los-angeles/has_availability.html\n",
            "Figure saved to  ./plotly/listings/los-angeles/host_id.html\n",
            "Figure saved to  ./plotly/listings/los-angeles/id.html\n",
            "Figure saved to  ./plotly/listings/los-angeles/latitude.html\n",
            "Figure saved to  ./plotly/listings/los-angeles/longitude.html\n",
            "Figure saved to  ./plotly/listings/los-angeles/price.html\n",
            "Figure saved to  ./plotly/listings/los-angeles/review_scores_checkin.html\n",
            "Figure saved to  ./plotly/listings/los-angeles/review_scores_cleanliness.html\n",
            "Figure saved to  ./plotly/listings/los-angeles/review_scores_communication.html\n",
            "Figure saved to  ./plotly/listings/los-angeles/review_scores_location.html\n",
            "Figure saved to  ./plotly/listings/los-angeles/review_scores_rating.html\n",
            "Figure saved to  ./plotly/listings/los-angeles/review_scores_value.html\n",
            "Done\n",
            "Dataset: listings, Region: asheville\n"
          ],
          "name": "stdout"
        },
        {
          "output_type": "stream",
          "text": [
            "/usr/local/lib/python3.7/dist-packages/pyproj/crs/crs.py:68: FutureWarning:\n",
            "\n",
            "'+init=<authority>:<code>' syntax is deprecated. '<authority>:<code>' is the preferred initialization method. When making the change, be mindful of axis order changes: https://pyproj4.github.io/pyproj/stable/gotchas.html#axis-order-changes-in-proj-6\n",
            "\n",
            "/usr/local/lib/python3.7/dist-packages/ipykernel_launcher.py:11: UserWarning:\n",
            "\n",
            "CRS mismatch between the CRS of left geometries and the CRS of right geometries.\n",
            "Use `to_crs()` to reproject one of the input geometries to match the CRS of the other.\n",
            "\n",
            "Left CRS: EPSG:4326\n",
            "Right CRS: +init=epsg:4326 +type=crs\n",
            "\n",
            "\n"
          ],
          "name": "stderr"
        },
        {
          "output_type": "stream",
          "text": [
            "Cannot get median of  neighbourhood\n",
            "Cannot get median of  neighbourhood_group\n",
            "Cannot get median of  geometry\n",
            "Cannot get median of  amenities\n",
            "Cannot get median of  bed_type\n",
            "Cannot get median of  cancellation_policy\n",
            "Cannot get median of  city\n",
            "Cannot get median of  instant_bookable\n",
            "Cannot get median of  metropolitan\n",
            "Cannot get median of  name\n",
            "Cannot get median of  property_type\n",
            "Cannot get median of  room_type\n",
            "Cannot get median of  state\n",
            "Cannot get median of  weekly_price\n",
            "Cannot get median of  zipcode\n",
            "Figure saved to  ./plotly/listings/asheville/index_right.html\n",
            "Figure saved to  ./plotly/listings/asheville/accommodates.html\n",
            "Figure saved to  ./plotly/listings/asheville/availability_30.html\n",
            "Figure saved to  ./plotly/listings/asheville/bathrooms.html\n",
            "Figure saved to  ./plotly/listings/asheville/bedrooms.html\n",
            "Figure saved to  ./plotly/listings/asheville/beds.html\n",
            "Figure saved to  ./plotly/listings/asheville/has_availability.html\n",
            "Figure saved to  ./plotly/listings/asheville/host_id.html\n",
            "Figure saved to  ./plotly/listings/asheville/id.html\n",
            "Figure saved to  ./plotly/listings/asheville/latitude.html\n",
            "Figure saved to  ./plotly/listings/asheville/longitude.html\n",
            "Figure saved to  ./plotly/listings/asheville/price.html\n",
            "Figure saved to  ./plotly/listings/asheville/review_scores_checkin.html\n",
            "Figure saved to  ./plotly/listings/asheville/review_scores_cleanliness.html\n",
            "Figure saved to  ./plotly/listings/asheville/review_scores_communication.html\n",
            "Figure saved to  ./plotly/listings/asheville/review_scores_location.html\n",
            "Figure saved to  ./plotly/listings/asheville/review_scores_rating.html\n",
            "Figure saved to  ./plotly/listings/asheville/review_scores_value.html\n",
            "Done\n",
            "Dataset: listings, Region: austin\n"
          ],
          "name": "stdout"
        },
        {
          "output_type": "stream",
          "text": [
            "/usr/local/lib/python3.7/dist-packages/pyproj/crs/crs.py:68: FutureWarning:\n",
            "\n",
            "'+init=<authority>:<code>' syntax is deprecated. '<authority>:<code>' is the preferred initialization method. When making the change, be mindful of axis order changes: https://pyproj4.github.io/pyproj/stable/gotchas.html#axis-order-changes-in-proj-6\n",
            "\n",
            "/usr/local/lib/python3.7/dist-packages/ipykernel_launcher.py:11: UserWarning:\n",
            "\n",
            "CRS mismatch between the CRS of left geometries and the CRS of right geometries.\n",
            "Use `to_crs()` to reproject one of the input geometries to match the CRS of the other.\n",
            "\n",
            "Left CRS: EPSG:4326\n",
            "Right CRS: +init=epsg:4326 +type=crs\n",
            "\n",
            "\n"
          ],
          "name": "stderr"
        },
        {
          "output_type": "stream",
          "text": [
            "Cannot get median of  neighbourhood\n",
            "Cannot get median of  neighbourhood_group\n",
            "Cannot get median of  geometry\n",
            "Cannot get median of  amenities\n",
            "Cannot get median of  bed_type\n",
            "Cannot get median of  cancellation_policy\n",
            "Cannot get median of  city\n",
            "Cannot get median of  instant_bookable\n",
            "Cannot get median of  metropolitan\n",
            "Cannot get median of  name\n",
            "Cannot get median of  property_type\n",
            "Cannot get median of  room_type\n",
            "Cannot get median of  state\n",
            "Cannot get median of  weekly_price\n",
            "Cannot get median of  zipcode\n",
            "Figure saved to  ./plotly/listings/austin/index_right.html\n",
            "Figure saved to  ./plotly/listings/austin/accommodates.html\n",
            "Figure saved to  ./plotly/listings/austin/availability_30.html\n",
            "Figure saved to  ./plotly/listings/austin/bathrooms.html\n",
            "Figure saved to  ./plotly/listings/austin/bedrooms.html\n",
            "Figure saved to  ./plotly/listings/austin/beds.html\n",
            "Figure saved to  ./plotly/listings/austin/has_availability.html\n",
            "Figure saved to  ./plotly/listings/austin/host_id.html\n",
            "Figure saved to  ./plotly/listings/austin/id.html\n",
            "Figure saved to  ./plotly/listings/austin/latitude.html\n",
            "Figure saved to  ./plotly/listings/austin/longitude.html\n",
            "Figure saved to  ./plotly/listings/austin/price.html\n",
            "Figure saved to  ./plotly/listings/austin/review_scores_checkin.html\n",
            "Figure saved to  ./plotly/listings/austin/review_scores_cleanliness.html\n",
            "Figure saved to  ./plotly/listings/austin/review_scores_communication.html\n",
            "Figure saved to  ./plotly/listings/austin/review_scores_location.html\n",
            "Figure saved to  ./plotly/listings/austin/review_scores_rating.html\n",
            "Figure saved to  ./plotly/listings/austin/review_scores_value.html\n",
            "Done\n",
            "Dataset: listings, Region: nashville\n"
          ],
          "name": "stdout"
        },
        {
          "output_type": "stream",
          "text": [
            "/usr/local/lib/python3.7/dist-packages/pyproj/crs/crs.py:68: FutureWarning:\n",
            "\n",
            "'+init=<authority>:<code>' syntax is deprecated. '<authority>:<code>' is the preferred initialization method. When making the change, be mindful of axis order changes: https://pyproj4.github.io/pyproj/stable/gotchas.html#axis-order-changes-in-proj-6\n",
            "\n",
            "/usr/local/lib/python3.7/dist-packages/ipykernel_launcher.py:11: UserWarning:\n",
            "\n",
            "CRS mismatch between the CRS of left geometries and the CRS of right geometries.\n",
            "Use `to_crs()` to reproject one of the input geometries to match the CRS of the other.\n",
            "\n",
            "Left CRS: EPSG:4326\n",
            "Right CRS: +init=epsg:4326 +type=crs\n",
            "\n",
            "\n"
          ],
          "name": "stderr"
        },
        {
          "output_type": "stream",
          "text": [
            "Cannot get median of  neighbourhood\n",
            "Cannot get median of  neighbourhood_group\n",
            "Cannot get median of  geometry\n",
            "Cannot get median of  amenities\n",
            "Cannot get median of  bed_type\n",
            "Cannot get median of  cancellation_policy\n",
            "Cannot get median of  city\n",
            "Cannot get median of  instant_bookable\n",
            "Cannot get median of  metropolitan\n",
            "Cannot get median of  name\n",
            "Cannot get median of  property_type\n",
            "Cannot get median of  room_type\n",
            "Cannot get median of  state\n",
            "Cannot get median of  weekly_price\n",
            "Cannot get median of  zipcode\n",
            "Figure saved to  ./plotly/listings/nashville/index_right.html\n",
            "Figure saved to  ./plotly/listings/nashville/accommodates.html\n",
            "Figure saved to  ./plotly/listings/nashville/availability_30.html\n",
            "Figure saved to  ./plotly/listings/nashville/bathrooms.html\n",
            "Figure saved to  ./plotly/listings/nashville/bedrooms.html\n",
            "Figure saved to  ./plotly/listings/nashville/beds.html\n",
            "Figure saved to  ./plotly/listings/nashville/has_availability.html\n",
            "Figure saved to  ./plotly/listings/nashville/host_id.html\n",
            "Figure saved to  ./plotly/listings/nashville/id.html\n",
            "Figure saved to  ./plotly/listings/nashville/latitude.html\n",
            "Figure saved to  ./plotly/listings/nashville/longitude.html\n",
            "Figure saved to  ./plotly/listings/nashville/price.html\n",
            "Figure saved to  ./plotly/listings/nashville/review_scores_checkin.html\n",
            "Figure saved to  ./plotly/listings/nashville/review_scores_cleanliness.html\n",
            "Figure saved to  ./plotly/listings/nashville/review_scores_communication.html\n",
            "Figure saved to  ./plotly/listings/nashville/review_scores_location.html\n",
            "Figure saved to  ./plotly/listings/nashville/review_scores_rating.html\n",
            "Figure saved to  ./plotly/listings/nashville/review_scores_value.html\n",
            "Done\n",
            "Dataset: listings, Region: new-orleans\n"
          ],
          "name": "stdout"
        },
        {
          "output_type": "stream",
          "text": [
            "/usr/local/lib/python3.7/dist-packages/pyproj/crs/crs.py:68: FutureWarning:\n",
            "\n",
            "'+init=<authority>:<code>' syntax is deprecated. '<authority>:<code>' is the preferred initialization method. When making the change, be mindful of axis order changes: https://pyproj4.github.io/pyproj/stable/gotchas.html#axis-order-changes-in-proj-6\n",
            "\n",
            "/usr/local/lib/python3.7/dist-packages/ipykernel_launcher.py:11: UserWarning:\n",
            "\n",
            "CRS mismatch between the CRS of left geometries and the CRS of right geometries.\n",
            "Use `to_crs()` to reproject one of the input geometries to match the CRS of the other.\n",
            "\n",
            "Left CRS: EPSG:4326\n",
            "Right CRS: +init=epsg:4326 +type=crs\n",
            "\n",
            "\n"
          ],
          "name": "stderr"
        },
        {
          "output_type": "stream",
          "text": [
            "Cannot get median of  neighbourhood\n",
            "Cannot get median of  neighbourhood_group\n",
            "Cannot get median of  geometry\n",
            "Cannot get median of  amenities\n",
            "Cannot get median of  bed_type\n",
            "Cannot get median of  cancellation_policy\n",
            "Cannot get median of  city\n",
            "Cannot get median of  instant_bookable\n",
            "Cannot get median of  metropolitan\n",
            "Cannot get median of  name\n",
            "Cannot get median of  property_type\n",
            "Cannot get median of  room_type\n",
            "Cannot get median of  state\n",
            "Cannot get median of  weekly_price\n",
            "Cannot get median of  zipcode\n",
            "Figure saved to  ./plotly/listings/new-orleans/index_right.html\n",
            "Figure saved to  ./plotly/listings/new-orleans/accommodates.html\n",
            "Figure saved to  ./plotly/listings/new-orleans/availability_30.html\n",
            "Figure saved to  ./plotly/listings/new-orleans/bathrooms.html\n",
            "Figure saved to  ./plotly/listings/new-orleans/bedrooms.html\n",
            "Figure saved to  ./plotly/listings/new-orleans/beds.html\n",
            "Figure saved to  ./plotly/listings/new-orleans/has_availability.html\n",
            "Figure saved to  ./plotly/listings/new-orleans/host_id.html\n",
            "Figure saved to  ./plotly/listings/new-orleans/id.html\n",
            "Figure saved to  ./plotly/listings/new-orleans/latitude.html\n",
            "Figure saved to  ./plotly/listings/new-orleans/longitude.html\n",
            "Figure saved to  ./plotly/listings/new-orleans/price.html\n",
            "Figure saved to  ./plotly/listings/new-orleans/review_scores_checkin.html\n",
            "Figure saved to  ./plotly/listings/new-orleans/review_scores_cleanliness.html\n",
            "Figure saved to  ./plotly/listings/new-orleans/review_scores_communication.html\n",
            "Figure saved to  ./plotly/listings/new-orleans/review_scores_location.html\n",
            "Figure saved to  ./plotly/listings/new-orleans/review_scores_rating.html\n",
            "Figure saved to  ./plotly/listings/new-orleans/review_scores_value.html\n",
            "Done\n",
            "Dataset: venues, Region: los-angeles\n",
            "Warning:  'price'\n"
          ],
          "name": "stdout"
        },
        {
          "output_type": "stream",
          "text": [
            "/usr/local/lib/python3.7/dist-packages/pyproj/crs/crs.py:68: FutureWarning:\n",
            "\n",
            "'+init=<authority>:<code>' syntax is deprecated. '<authority>:<code>' is the preferred initialization method. When making the change, be mindful of axis order changes: https://pyproj4.github.io/pyproj/stable/gotchas.html#axis-order-changes-in-proj-6\n",
            "\n",
            "/usr/local/lib/python3.7/dist-packages/ipykernel_launcher.py:11: UserWarning:\n",
            "\n",
            "CRS mismatch between the CRS of left geometries and the CRS of right geometries.\n",
            "Use `to_crs()` to reproject one of the input geometries to match the CRS of the other.\n",
            "\n",
            "Left CRS: EPSG:4326\n",
            "Right CRS: +init=epsg:4326 +type=crs\n",
            "\n",
            "\n"
          ],
          "name": "stderr"
        },
        {
          "output_type": "stream",
          "text": [
            "Cannot get median of  neighbourhood\n",
            "Cannot get median of  neighbourhood_group\n",
            "Cannot get median of  geometry\n",
            "Cannot get median of  city\n",
            "Cannot get median of  id\n",
            "Cannot get median of  name\n",
            "Cannot get median of  types\n",
            "Figure saved to  ./plotly/venues/los-angeles/index_right.html\n",
            "Figure saved to  ./plotly/venues/los-angeles/latitude.html\n",
            "Figure saved to  ./plotly/venues/los-angeles/longitude.html\n",
            "Figure saved to  ./plotly/venues/los-angeles/rating.html\n",
            "Done\n",
            "Dataset: venues, Region: asheville\n",
            "Warning:  'price'\n"
          ],
          "name": "stdout"
        },
        {
          "output_type": "stream",
          "text": [
            "/usr/local/lib/python3.7/dist-packages/pyproj/crs/crs.py:68: FutureWarning:\n",
            "\n",
            "'+init=<authority>:<code>' syntax is deprecated. '<authority>:<code>' is the preferred initialization method. When making the change, be mindful of axis order changes: https://pyproj4.github.io/pyproj/stable/gotchas.html#axis-order-changes-in-proj-6\n",
            "\n",
            "/usr/local/lib/python3.7/dist-packages/ipykernel_launcher.py:11: UserWarning:\n",
            "\n",
            "CRS mismatch between the CRS of left geometries and the CRS of right geometries.\n",
            "Use `to_crs()` to reproject one of the input geometries to match the CRS of the other.\n",
            "\n",
            "Left CRS: EPSG:4326\n",
            "Right CRS: +init=epsg:4326 +type=crs\n",
            "\n",
            "\n"
          ],
          "name": "stderr"
        },
        {
          "output_type": "stream",
          "text": [
            "Cannot get median of  neighbourhood\n",
            "Cannot get median of  neighbourhood_group\n",
            "Cannot get median of  geometry\n",
            "Cannot get median of  city\n",
            "Cannot get median of  id\n",
            "Cannot get median of  name\n",
            "Cannot get median of  types\n",
            "Figure saved to  ./plotly/venues/asheville/index_right.html\n",
            "Figure saved to  ./plotly/venues/asheville/latitude.html\n",
            "Figure saved to  ./plotly/venues/asheville/longitude.html\n",
            "Figure saved to  ./plotly/venues/asheville/rating.html\n",
            "Done\n",
            "Dataset: venues, Region: austin\n",
            "Warning:  'price'\n"
          ],
          "name": "stdout"
        },
        {
          "output_type": "stream",
          "text": [
            "/usr/local/lib/python3.7/dist-packages/pyproj/crs/crs.py:68: FutureWarning:\n",
            "\n",
            "'+init=<authority>:<code>' syntax is deprecated. '<authority>:<code>' is the preferred initialization method. When making the change, be mindful of axis order changes: https://pyproj4.github.io/pyproj/stable/gotchas.html#axis-order-changes-in-proj-6\n",
            "\n",
            "/usr/local/lib/python3.7/dist-packages/ipykernel_launcher.py:11: UserWarning:\n",
            "\n",
            "CRS mismatch between the CRS of left geometries and the CRS of right geometries.\n",
            "Use `to_crs()` to reproject one of the input geometries to match the CRS of the other.\n",
            "\n",
            "Left CRS: EPSG:4326\n",
            "Right CRS: +init=epsg:4326 +type=crs\n",
            "\n",
            "\n"
          ],
          "name": "stderr"
        },
        {
          "output_type": "stream",
          "text": [
            "Cannot get median of  neighbourhood\n",
            "Cannot get median of  neighbourhood_group\n",
            "Cannot get median of  geometry\n",
            "Cannot get median of  city\n",
            "Cannot get median of  id\n",
            "Cannot get median of  name\n",
            "Cannot get median of  types\n",
            "Figure saved to  ./plotly/venues/austin/index_right.html\n",
            "Figure saved to  ./plotly/venues/austin/latitude.html\n",
            "Figure saved to  ./plotly/venues/austin/longitude.html\n",
            "Figure saved to  ./plotly/venues/austin/rating.html\n",
            "Done\n",
            "Dataset: venues, Region: nashville\n",
            "Warning:  'price'\n"
          ],
          "name": "stdout"
        },
        {
          "output_type": "stream",
          "text": [
            "/usr/local/lib/python3.7/dist-packages/pyproj/crs/crs.py:68: FutureWarning:\n",
            "\n",
            "'+init=<authority>:<code>' syntax is deprecated. '<authority>:<code>' is the preferred initialization method. When making the change, be mindful of axis order changes: https://pyproj4.github.io/pyproj/stable/gotchas.html#axis-order-changes-in-proj-6\n",
            "\n",
            "/usr/local/lib/python3.7/dist-packages/ipykernel_launcher.py:11: UserWarning:\n",
            "\n",
            "CRS mismatch between the CRS of left geometries and the CRS of right geometries.\n",
            "Use `to_crs()` to reproject one of the input geometries to match the CRS of the other.\n",
            "\n",
            "Left CRS: EPSG:4326\n",
            "Right CRS: +init=epsg:4326 +type=crs\n",
            "\n",
            "\n"
          ],
          "name": "stderr"
        },
        {
          "output_type": "stream",
          "text": [
            "Cannot get median of  neighbourhood\n",
            "Cannot get median of  neighbourhood_group\n",
            "Cannot get median of  geometry\n",
            "Cannot get median of  city\n",
            "Cannot get median of  id\n",
            "Cannot get median of  name\n",
            "Cannot get median of  types\n",
            "Figure saved to  ./plotly/venues/nashville/index_right.html\n",
            "Figure saved to  ./plotly/venues/nashville/latitude.html\n",
            "Figure saved to  ./plotly/venues/nashville/longitude.html\n",
            "Figure saved to  ./plotly/venues/nashville/rating.html\n",
            "Done\n",
            "Dataset: venues, Region: new-orleans\n",
            "Warning:  'price'\n"
          ],
          "name": "stdout"
        },
        {
          "output_type": "stream",
          "text": [
            "/usr/local/lib/python3.7/dist-packages/pyproj/crs/crs.py:68: FutureWarning:\n",
            "\n",
            "'+init=<authority>:<code>' syntax is deprecated. '<authority>:<code>' is the preferred initialization method. When making the change, be mindful of axis order changes: https://pyproj4.github.io/pyproj/stable/gotchas.html#axis-order-changes-in-proj-6\n",
            "\n",
            "/usr/local/lib/python3.7/dist-packages/ipykernel_launcher.py:11: UserWarning:\n",
            "\n",
            "CRS mismatch between the CRS of left geometries and the CRS of right geometries.\n",
            "Use `to_crs()` to reproject one of the input geometries to match the CRS of the other.\n",
            "\n",
            "Left CRS: EPSG:4326\n",
            "Right CRS: +init=epsg:4326 +type=crs\n",
            "\n",
            "\n"
          ],
          "name": "stderr"
        },
        {
          "output_type": "stream",
          "text": [
            "Cannot get median of  neighbourhood\n",
            "Cannot get median of  neighbourhood_group\n",
            "Cannot get median of  geometry\n",
            "Cannot get median of  city\n",
            "Cannot get median of  id\n",
            "Cannot get median of  name\n",
            "Cannot get median of  types\n",
            "Figure saved to  ./plotly/venues/new-orleans/index_right.html\n",
            "Figure saved to  ./plotly/venues/new-orleans/latitude.html\n",
            "Figure saved to  ./plotly/venues/new-orleans/longitude.html\n",
            "Figure saved to  ./plotly/venues/new-orleans/rating.html\n",
            "Done\n"
          ],
          "name": "stdout"
        }
      ]
    },
    {
      "cell_type": "code",
      "metadata": {
        "id": "H9Qfxso9ZOtd"
      },
      "source": [
        ""
      ],
      "execution_count": null,
      "outputs": []
    }
  ]
}