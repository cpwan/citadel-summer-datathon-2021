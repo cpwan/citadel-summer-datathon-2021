{
  "nbformat": 4,
  "nbformat_minor": 0,
  "metadata": {
    "colab": {
      "name": "exploratory data analysis.ipynb",
      "provenance": [],
      "authorship_tag": "ABX9TyPGhBjdmYNxWEQMLnzyzSN4",
      "include_colab_link": true
    },
    "kernelspec": {
      "name": "python3",
      "display_name": "Python 3"
    },
    "language_info": {
      "name": "python"
    }
  },
  "cells": [
    {
      "cell_type": "markdown",
      "metadata": {
        "id": "view-in-github",
        "colab_type": "text"
      },
      "source": [
        "<a href=\"https://colab.research.google.com/github/cpwan/citadel-summer-datathon-2021/blob/eda/exploratory_data_analysis.ipynb\" target=\"_parent\"><img src=\"https://colab.research.google.com/assets/colab-badge.svg\" alt=\"Open In Colab\"/></a>"
      ]
    },
    {
      "cell_type": "code",
      "metadata": {
        "colab": {
          "base_uri": "https://localhost:8080/"
        },
        "id": "p0WeNrYvYyXp",
        "outputId": "db8b5c90-78c4-426e-a6ec-1196a29df87f"
      },
      "source": [
        "!gdown --id 1ecgxSTxCmhCvVTSFgUBRGVjyGf3rLREW -O dataset.zip"
      ],
      "execution_count": null,
      "outputs": [
        {
          "output_type": "stream",
          "text": [
            "Downloading...\n",
            "From: https://drive.google.com/uc?id=1ecgxSTxCmhCvVTSFgUBRGVjyGf3rLREW\n",
            "To: /content/dataset.zip\n",
            "69.1MB [00:00, 166MB/s]\n"
          ],
          "name": "stdout"
        }
      ]
    },
    {
      "cell_type": "code",
      "metadata": {
        "colab": {
          "base_uri": "https://localhost:8080/"
        },
        "id": "XtmXGaQ-Y8uQ",
        "outputId": "4ce75a74-04e6-46b3-d1ca-d4e973e6abfa"
      },
      "source": [
        "!unzip dataset.zip"
      ],
      "execution_count": null,
      "outputs": [
        {
          "output_type": "stream",
          "text": [
            "Archive:  dataset.zip\n",
            "  inflating: Datasets/econ_state.csv  \n",
            "  inflating: Datasets/demographics.csv  \n",
            "  inflating: Datasets/venues.csv.gz  \n",
            "  inflating: Datasets/real_estate.csv.gz  \n",
            "  inflating: Datasets/listings.csv   \n",
            "  inflating: Datasets/calendar.csv.gz  \n"
          ],
          "name": "stdout"
        }
      ]
    },
    {
      "cell_type": "code",
      "metadata": {
        "id": "QB1AxuKpd_A3"
      },
      "source": [
        "!gzip -dk Datasets/*.gz"
      ],
      "execution_count": null,
      "outputs": []
    },
    {
      "cell_type": "code",
      "metadata": {
        "colab": {
          "base_uri": "https://localhost:8080/"
        },
        "id": "HJ4YKcB0aB7y",
        "outputId": "6468bf39-cbfc-4095-c4cd-1bb34f6c01ab"
      },
      "source": [
        "!pip install dataprep -q"
      ],
      "execution_count": null,
      "outputs": [
        {
          "output_type": "stream",
          "text": [
            "\u001b[K     |████████████████████████████████| 1.8MB 5.2MB/s \n",
            "\u001b[K     |████████████████████████████████| 71kB 8.8MB/s \n",
            "\u001b[K     |████████████████████████████████| 849kB 55.1MB/s \n",
            "\u001b[K     |████████████████████████████████| 727kB 4.8MB/s \n",
            "\u001b[K     |████████████████████████████████| 368kB 49.7MB/s \n",
            "\u001b[K     |████████████████████████████████| 1.3MB 31.0MB/s \n",
            "\u001b[K     |████████████████████████████████| 1.5MB 15.4MB/s \n",
            "\u001b[K     |████████████████████████████████| 10.1MB 22.7MB/s \n",
            "\u001b[K     |████████████████████████████████| 81kB 9.8MB/s \n",
            "\u001b[K     |████████████████████████████████| 51kB 7.1MB/s \n",
            "\u001b[K     |████████████████████████████████| 747kB 36.5MB/s \n",
            "\u001b[K     |████████████████████████████████| 51kB 6.3MB/s \n",
            "\u001b[K     |████████████████████████████████| 122kB 47.3MB/s \n",
            "\u001b[K     |████████████████████████████████| 143kB 49.1MB/s \n",
            "\u001b[K     |████████████████████████████████| 296kB 38.4MB/s \n",
            "\u001b[?25h  Building wheel for python-Levenshtein (setup.py) ... \u001b[?25l\u001b[?25hdone\n",
            "  Building wheel for metaphone (setup.py) ... \u001b[?25l\u001b[?25hdone\n"
          ],
          "name": "stdout"
        }
      ]
    },
    {
      "cell_type": "code",
      "metadata": {
        "colab": {
          "base_uri": "https://localhost:8080/"
        },
        "id": "2CAT5UM_ZDwg",
        "outputId": "955de1f1-1f0c-47b9-8b3e-b1da152b34a0"
      },
      "source": [
        "import pandas as pd\n",
        "from dataprep.eda import create_report\n"
      ],
      "execution_count": null,
      "outputs": [
        {
          "output_type": "stream",
          "text": [
            "NumExpr defaulting to 2 threads.\n"
          ],
          "name": "stderr"
        }
      ]
    },
    {
      "cell_type": "code",
      "metadata": {
        "id": "ONrHme4Tc6Ej"
      },
      "source": [
        "def getDFandReport(dset):\n",
        "  '''\n",
        "  dset: name of the csv\n",
        "\n",
        "  return:\n",
        "    df: dataframe read from file\n",
        "    report: the eda report\n",
        "  '''\n",
        "\n",
        "  df=pd.read_csv(f'./Datasets/{dset}.csv')\n",
        "  report = create_report(df)\n",
        "  report.save(dset)\n",
        "\n",
        "  return df, report\n"
      ],
      "execution_count": null,
      "outputs": []
    },
    {
      "cell_type": "code",
      "metadata": {
        "id": "Ya_JfM6qdXOz"
      },
      "source": [
        "dfs={}\n",
        "reports={}"
      ],
      "execution_count": null,
      "outputs": []
    },
    {
      "cell_type": "code",
      "metadata": {
        "colab": {
          "base_uri": "https://localhost:8080/"
        },
        "id": "uBGczfIxeWIU",
        "outputId": "a83d7aae-dd0d-4b7f-f350-e039571fe016"
      },
      "source": [
        "dsets=['listings','calendar','demographics','econ_state','real_estate','venues']\n",
        "for dset in dsets:\n",
        "  dfs[dset],reports[dset]=getDFandReport(dset)"
      ],
      "execution_count": null,
      "outputs": [
        {
          "output_type": "stream",
          "text": [
            "E-1019 (DUPLICATE_FACTORS): FactorRange must specify a unique list of categorical factors for an axis: duplicate factors found: 'review_scores...ion'\n",
            "E-1019 (DUPLICATE_FACTORS): FactorRange must specify a unique list of categorical factors for an axis: duplicate factors found: 'review_scores...ion'\n",
            "E-1019 (DUPLICATE_FACTORS): FactorRange must specify a unique list of categorical factors for an axis: duplicate factors found: 'review_scores...ion'\n"
          ],
          "name": "stderr"
        },
        {
          "output_type": "stream",
          "text": [
            "Report has been saved to /content/listings.html!\n"
          ],
          "name": "stdout"
        },
        {
          "output_type": "stream",
          "text": [
            ""
          ],
          "name": "stderr"
        },
        {
          "output_type": "stream",
          "text": [
            "Report has been saved to /content/calendar.html!\n"
          ],
          "name": "stdout"
        },
        {
          "output_type": "stream",
          "text": [
            ""
          ],
          "name": "stderr"
        },
        {
          "output_type": "stream",
          "text": [
            "Report has been saved to /content/demographics.html!\n"
          ],
          "name": "stdout"
        },
        {
          "output_type": "stream",
          "text": [
            ""
          ],
          "name": "stderr"
        },
        {
          "output_type": "stream",
          "text": [
            "Report has been saved to /content/econ_state.html!\n"
          ],
          "name": "stdout"
        },
        {
          "output_type": "stream",
          "text": [
            ""
          ],
          "name": "stderr"
        },
        {
          "output_type": "stream",
          "text": [
            "Report has been saved to /content/real_estate.html!\n"
          ],
          "name": "stdout"
        },
        {
          "output_type": "stream",
          "text": [
            ""
          ],
          "name": "stderr"
        },
        {
          "output_type": "stream",
          "text": [
            "Report has been saved to /content/venues.html!\n"
          ],
          "name": "stdout"
        }
      ]
    },
    {
      "cell_type": "code",
      "metadata": {
        "id": "JETnXCEzfAkI"
      },
      "source": [
        ""
      ],
      "execution_count": null,
      "outputs": []
    }
  ]
}